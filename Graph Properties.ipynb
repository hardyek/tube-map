{
 "cells": [
  {
   "cell_type": "code",
   "execution_count": null,
   "metadata": {},
   "outputs": [],
   "source": [
    "import pandas as pd\n",
    "import networkx as nx\n",
    "import numpy as np\n",
    "import matplotlib.pyplot as plt\n",
    "import os\n",
    "from colour_mappings import line_colours, line_names\n",
    "from graph_loading import load_graph"
   ]
  },
  {
   "cell_type": "code",
   "execution_count": null,
   "metadata": {},
   "outputs": [],
   "source": [
    "G, pos, colors, weights, index_to_station_name, station_name_to_index = load_graph()"
   ]
  },
  {
   "cell_type": "code",
   "execution_count": null,
   "metadata": {},
   "outputs": [],
   "source": [
    "# Basic Graph Properties\n",
    "print(\"Basic Network Properties:\")\n",
    "print(f\"Number of nodes (stations): {G.number_of_nodes()}\")\n",
    "print(f\"Number of edges (connections): {G.number_of_edges()}\")\n",
    "print(f\"Network density: {nx.density(G):.3f}\")"
   ]
  },
  {
   "cell_type": "code",
   "execution_count": null,
   "metadata": {},
   "outputs": [],
   "source": [
    "print(\"\\nCentrality Analysis:\")\n",
    "# Degree centrality (stations with most connections)\n",
    "degree_cent = nx.degree_centrality(G)\n",
    "top_degree = sorted(degree_cent.items(), key=lambda x: x[1], reverse=True)[:5]\n",
    "print(\"\\nTop 5 stations by degree centrality (most connections):\")\n",
    "for node, cent in top_degree:\n",
    "    print(f\"{index_to_station_name[node]}: {cent:.3f}\")"
   ]
  },
  {
   "cell_type": "code",
   "execution_count": null,
   "metadata": {},
   "outputs": [],
   "source": [
    "between_cent = nx.betweenness_centrality(G, weight='weight')\n",
    "top_between = sorted(between_cent.items(), key=lambda x: x[1], reverse=True)[:5]\n",
    "print(\"\\nTop 5 stations by betweenness centrality (important transfer points):\")\n",
    "for node, cent in top_between:\n",
    "    print(f\"{index_to_station_name[node]}: {cent:.3f}\")"
   ]
  },
  {
   "cell_type": "code",
   "execution_count": null,
   "metadata": {},
   "outputs": [],
   "source": [
    "print(\"\\nShortest Paths Analysis:\")\n",
    "avg_path_length = nx.average_shortest_path_length(G, weight='weight')\n",
    "print(f\"Average shortest path length (in minutes): {avg_path_length:.2f}\")"
   ]
  },
  {
   "cell_type": "code",
   "execution_count": null,
   "metadata": {},
   "outputs": [],
   "source": [
    "diameter = nx.diameter(G, weight='weight')\n",
    "print(f\"Network diameter (longest shortest path in minutes): {diameter:.2f}\")"
   ]
  },
  {
   "cell_type": "code",
   "execution_count": null,
   "metadata": {},
   "outputs": [],
   "source": [
    "print(\"\\nConnectivity Analysis:\")\n",
    "is_strongly_connected = nx.is_strongly_connected(G)\n",
    "print(f\"Is network strongly connected? {is_strongly_connected}\")\n",
    "if not is_strongly_connected:\n",
    "    n_components = nx.number_strongly_connected_components(G)\n",
    "    print(f\"Number of strongly connected components: {n_components}\")"
   ]
  },
  {
   "cell_type": "code",
   "execution_count": null,
   "metadata": {},
   "outputs": [],
   "source": [
    "print(\"\\nLine Analysis:\")\n",
    "colors = set(nx.get_edge_attributes(G, 'color').values())\n",
    "print(f\"Number of different lines: {len(colors)}\")\n",
    "for color in colors:\n",
    "    edges = [(u,v) for (u,v,d) in G.edges(data=True) if d['color'] == color]\n",
    "    print(f\"Line {line_names[color]}: {len(edges)} connections\")"
   ]
  },
  {
   "cell_type": "code",
   "execution_count": null,
   "metadata": {},
   "outputs": [],
   "source": [
    "edge_betweenness = nx.edge_betweenness_centrality(G, weight='weight')\n",
    "top_bottlenecks = sorted(edge_betweenness.items(), key=lambda x: x[1], reverse=True)[:5]\n",
    "print(\"\\nTop 5 potential bottleneck connections:\")\n",
    "for (u, v, d), cent in top_bottlenecks:\n",
    "    print(f\"{index_to_station_name[u]} -> {index_to_station_name[v]}: {cent:.3f}\")"
   ]
  },
  {
   "cell_type": "code",
   "execution_count": null,
   "metadata": {},
   "outputs": [],
   "source": [
    "def stations_within_time(G, source, time_threshold):\n",
    "    paths = nx.single_source_dijkstra_path_length(G, source, weight='weight')\n",
    "    return sum(1 for t in paths.values() if t <= time_threshold)\n",
    "print(\"\\nStation Accessibility Analysis:\")\n",
    "central_stations = [node for node, cent in top_between[:3]]  # Using top 3 by betweenness\n",
    "for station in central_stations:\n",
    "    for threshold in [10, 20, 30]:  # minutes\n",
    "        count = stations_within_time(G, station, threshold)\n",
    "        print(f\"From {index_to_station_name[station]}, {count} stations can be reached within {threshold} minutes\")"
   ]
  }
 ],
 "metadata": {
  "kernelspec": {
   "display_name": "base",
   "language": "python",
   "name": "python3"
  },
  "language_info": {
   "name": "python",
   "version": "3.12.4"
  }
 },
 "nbformat": 4,
 "nbformat_minor": 2
}
