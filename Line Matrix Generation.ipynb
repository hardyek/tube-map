{
  "cells": [
    {
      "cell_type": "code",
      "execution_count": 1,
      "id": "6ffc6d2a",
      "metadata": {
        "ExecuteTime": {
          "end_time": "2023-10-11T16:54:59.286043+00:00",
          "start_time": "2023-10-11T16:54:59.131029+00:00"
        },
        "noteable": {
          "output_collection_id": "c041b720-9c5f-4ad4-9844-ca4853e18a89"
        }
      },
      "outputs": [],
      "source": [
        "import numpy as np\n",
        "import pandas as pd\n",
        "import os"
      ]
    },
    {
      "cell_type": "code",
      "execution_count": 2,
      "id": "36ad4554-f577-42b8-bbdc-c1400a966395",
      "metadata": {
        "ExecuteTime": {
          "end_time": "2023-10-11T16:54:59.483646+00:00",
          "start_time": "2023-10-11T16:54:59.290846+00:00"
        },
        "jupyter": {
          "outputs_hidden": false,
          "source_hidden": false
        },
        "noteable": {
          "cell_type": "code",
          "output_collection_id": "2f3cf727-18a1-4c03-b1c9-8a3d1c639905"
        }
      },
      "outputs": [],
      "source": [
        "stations_list = pd.read_excel(\"All Stations.xlsx\")"
      ]
    },
    {
      "cell_type": "code",
      "execution_count": 3,
      "id": "02f1595e-b9dd-428d-a9bd-3561218f5989",
      "metadata": {
        "ExecuteTime": {
          "end_time": "2023-10-11T16:54:59.647207+00:00",
          "start_time": "2023-10-11T16:54:59.300742+00:00"
        },
        "jupyter": {
          "outputs_hidden": false,
          "source_hidden": false
        },
        "noteable": {
          "cell_type": "code",
          "output_collection_id": "31d480f9-0c58-40b3-9369-783b737233a5"
        }
      },
      "outputs": [],
      "source": [
        "index_to_station_name = {}\n",
        "station_name_to_index = {}\n",
        "for i,station in enumerate(stations_list['Station']):\n",
        "    index_to_station_name[i] = station\n",
        "    station_name_to_index[station] = i"
      ]
    },
    {
      "cell_type": "code",
      "execution_count": 4,
      "id": "c2f15f45-d0e7-42bc-b16c-30e243ddc3eb",
      "metadata": {
        "ExecuteTime": {
          "end_time": "2023-10-11T16:55:01.779798+00:00",
          "start_time": "2023-10-11T16:55:01.411484+00:00"
        },
        "jupyter": {
          "outputs_hidden": false,
          "source_hidden": false
        },
        "noteable": {
          "cell_type": "code",
          "output_collection_id": "26e25c4e-f751-46cb-85c2-fb060cae2aad"
        }
      },
      "outputs": [],
      "source": [
        "for filename in os.listdir(\"Lines\"):\n",
        "    file = os.path.join(\"Lines\", filename)\n",
        "    if file != \"Lines/.noteablekeep\":\n",
        "        arr = []\n",
        "        line_df = pd.read_excel(file)\n",
        "        \n",
        "        for row in range(len(line_df)):\n",
        "            df_row = line_df.iloc[row]\n",
        "            \n",
        "            start_idx = station_name_to_index[df_row[\"Start\"]]\n",
        "            end_idx = station_name_to_index[df_row[\"End\"]]\n",
        "            weight = df_row[\"Time\"]\n",
        "            directed = df_row[\"Directed\"]\n",
        "            directed = 0 if directed == False else 1\n",
        "            \n",
        "            arr.append([start_idx,end_idx,weight,directed])\n",
        "        \n",
        "        filename = filename[:-5] + \" Matrix\"\n",
        "        output_file_path = os.path.join(\"Line Matrices\", filename)\n",
        "        numpy_arr = np.array(arr)\n",
        "        np.save(output_file_path, numpy_arr)"
      ]
    }
  ],
  "metadata": {
    "kernel_info": {
      "name": "python3.9-noteable"
    },
    "kernelspec": {
      "display_name": "base",
      "language": "python",
      "name": "python3"
    },
    "language_info": {
      "codemirror_mode": {
        "name": "ipython",
        "version": 3
      },
      "file_extension": ".py",
      "mimetype": "text/x-python",
      "name": "python",
      "nbconvert_exporter": "python",
      "pygments_lexer": "ipython3",
      "version": "3.12.4"
    },
    "selected_hardware_size": "small"
  },
  "nbformat": 4,
  "nbformat_minor": 5
}
