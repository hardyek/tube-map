{
 "cells": [
  {
   "cell_type": "code",
   "execution_count": 1,
   "metadata": {},
   "outputs": [],
   "source": [
    "import pandas as pd\n",
    "import networkx as nx\n",
    "import numpy as np\n",
    "import matplotlib.pyplot as plt\n",
    "import matplotlib.animation as animation\n",
    "import os\n",
    "from tqdm.notebook import tqdm\n",
    "from colour_mappings import line_colours, line_names\n",
    "from graph_loading import load_graph"
   ]
  },
  {
   "cell_type": "code",
   "execution_count": 2,
   "metadata": {},
   "outputs": [],
   "source": [
    "G, pos, colors, weights, index_to_station_name, station_name_to_index = load_graph()"
   ]
  },
  {
   "cell_type": "code",
   "execution_count": 3,
   "metadata": {},
   "outputs": [],
   "source": [
    "def create_shortest_paths_animation(G, start_node, pos, color_dict, interval=100):\n",
    "    \"\"\"\n",
    "    Animate Dijkstra's algorithm showing shortest paths to all stations.\n",
    "    Dynamically scales and builds up the graph as it explores.\n",
    "    \"\"\"\n",
    "    fig, ax = plt.subplots(figsize=(30, 20))\n",
    "    \n",
    "    # Calculate shortest paths\n",
    "    distances, paths = nx.single_source_dijkstra(G, start_node)\n",
    "    max_distance = max(distances.values())\n",
    "    frames = []\n",
    "    \n",
    "    # Create frames showing paths in order of increasing distance\n",
    "    sorted_nodes = sorted(distances.keys(), key=lambda x: distances[x])\n",
    "    for i, node in enumerate(sorted_nodes):\n",
    "        frames.append({\n",
    "            'current_node': node,\n",
    "            'distance': distances[node],\n",
    "            'visited_nodes': sorted_nodes[:i+1],\n",
    "            'paths': {n: paths[n] for n in sorted_nodes[:i+1]}\n",
    "        })\n",
    "    \n",
    "    def update(frame):\n",
    "        ax.clear()\n",
    "        \n",
    "        # Get all currently visible nodes (nodes in paths)\n",
    "        visible_nodes = set()\n",
    "        for node, path in frames[frame]['paths'].items():\n",
    "            visible_nodes.update(path)\n",
    "        \n",
    "        # Calculate plot bounds based on visible nodes\n",
    "        if visible_nodes:\n",
    "            x_coords = [pos[node][0] for node in visible_nodes]\n",
    "            y_coords = [pos[node][1] for node in visible_nodes]\n",
    "            x_min, x_max = min(x_coords), max(x_coords)\n",
    "            y_min, y_max = min(y_coords), max(y_coords)\n",
    "            \n",
    "            # Add margin based on the size of the current view\n",
    "            x_margin = (x_max - x_min) * 0.1\n",
    "            y_margin = (y_max - y_min) * 0.1\n",
    "            \n",
    "            plt.xlim(x_min - x_margin, x_max + x_margin)\n",
    "            plt.ylim(y_min - y_margin, y_max + y_margin)\n",
    "        \n",
    "        # Draw discovered paths\n",
    "        edges_drawn = set()  # Keep track of drawn edges to avoid duplicates\n",
    "        for node, path in frames[frame]['paths'].items():\n",
    "            path_edges = list(zip(path[:-1], path[1:]))\n",
    "            \n",
    "            for start, end in path_edges:\n",
    "                if (start, end) not in edges_drawn and (end, start) not in edges_drawn:\n",
    "                    # Find the edge and its line in the graph\n",
    "                    edge_data = None\n",
    "                    for s, e, k, data in G.edges(data=True, keys=True):\n",
    "                        if (s == start and e == end) or (s == end and e == start):\n",
    "                            edge_data = data\n",
    "                            break\n",
    "                    \n",
    "                    if edge_data and 'line' in edge_data:\n",
    "                        # Draw the edge with its line color\n",
    "                        nx.draw_networkx_edges(G, pos,\n",
    "                                             edgelist=[(start, end)],\n",
    "                                             edge_color=[line_colours[edge_data['line']]],  # Use line name as color\n",
    "                                             alpha=0.7,\n",
    "                                             width=2)\n",
    "                        edges_drawn.add((start, end))\n",
    "                        edges_drawn.add((end, start))  # Add both directions\n",
    "\n",
    "        # Draw visited nodes (only those in current paths)\n",
    "        visible_visited_nodes = [node for node in frames[frame]['visited_nodes'] \n",
    "                               if node in visible_nodes]\n",
    "        if visible_visited_nodes:\n",
    "            nx.draw_networkx_nodes(G, pos,\n",
    "                                 nodelist=visible_visited_nodes,\n",
    "                                 node_color='black',\n",
    "                                 node_size=50)\n",
    "        \n",
    "        # Highlight current node\n",
    "        nx.draw_networkx_nodes(G, pos,\n",
    "                             nodelist=[frames[frame]['current_node']],\n",
    "                             node_color='red',\n",
    "                             node_size=100)\n",
    "        \n",
    "        # Draw labels only for nodes in current paths\n",
    "        \n",
    "        # Calculate the current coverage statistics\n",
    "        total_distance = sum(distances[node] for node in frames[frame]['visited_nodes'])\n",
    "        avg_distance = total_distance / len(frames[frame]['visited_nodes'])\n",
    "        \n",
    "        plt.title(f\"Shortest Paths from {index_to_station_name[start_node]}\\n\"\n",
    "                 f\"Visited {len(frames[frame]['visited_nodes'])} stations \"\n",
    "                 f\"({len(frames[frame]['visited_nodes'])/len(G.nodes())*100:.1f}% of network)\")\n",
    "    \n",
    "    print(f\"Creating animation with {len(frames)} frames...\")\n",
    "    anim = animation.FuncAnimation(fig, update, frames=len(frames),\n",
    "                                 interval=interval, repeat=False)\n",
    "    return anim"
   ]
  },
  {
   "cell_type": "code",
   "execution_count": 4,
   "metadata": {},
   "outputs": [
    {
     "data": {
      "text/plain": [
       "249"
      ]
     },
     "execution_count": 4,
     "metadata": {},
     "output_type": "execute_result"
    }
   ],
   "source": [
    "station_name_to_index[\"King\\'s Cross & St Pancras International\"]"
   ]
  },
  {
   "cell_type": "code",
   "execution_count": null,
   "metadata": {},
   "outputs": [
    {
     "name": "stdout",
     "output_type": "stream",
     "text": [
      "Creating animation with 456 frames...\n"
     ]
    },
    {
     "name": "stderr",
     "output_type": "stream",
     "text": [
      "/var/folders/yy/rxmvf4s17q7bwv5swgznj8yr0000gn/T/ipykernel_12252/1453557829.py:42: UserWarning: Attempting to set identical low and high xlims makes transformation singular; automatically expanding.\n",
      "  plt.xlim(x_min - x_margin, x_max + x_margin)\n",
      "/var/folders/yy/rxmvf4s17q7bwv5swgznj8yr0000gn/T/ipykernel_12252/1453557829.py:43: UserWarning: Attempting to set identical low and high ylims makes transformation singular; automatically expanding.\n",
      "  plt.ylim(y_min - y_margin, y_max + y_margin)\n"
     ]
    }
   ],
   "source": [
    "start_node = 249 # Choose a central station\n",
    "anim = create_shortest_paths_animation(G, start_node, pos, colors)\n",
    "anim.save('shortest_paths_colored.gif', writer='pillow')"
   ]
  }
 ],
 "metadata": {
  "kernelspec": {
   "display_name": "base",
   "language": "python",
   "name": "python3"
  },
  "language_info": {
   "codemirror_mode": {
    "name": "ipython",
    "version": 3
   },
   "file_extension": ".py",
   "mimetype": "text/x-python",
   "name": "python",
   "nbconvert_exporter": "python",
   "pygments_lexer": "ipython3",
   "version": "3.12.4"
  }
 },
 "nbformat": 4,
 "nbformat_minor": 2
}
